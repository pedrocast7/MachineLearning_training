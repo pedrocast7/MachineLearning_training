from tensorflow.keras.datasets import fashion_mnist
(x_train, y_train), (x_test, y_test) = fashion_mnist.load_data()
x_train = x_train / 255
x_test = x_test / 255
x_train, x_val, y_train, y_val = train_test_split(x_train, y_train, test_size=5000, random_state=0)
print(x_train.shape, y_train.shape)
print(x_val.shape, y_val.shape)
print(x_test.shape, y_test.shape)

classes = ['T-shirt/top', 'Trouser', 'Pullover', 'Dress', 'Coat', 'Sandal', 'Shirt', 'Sneaker', 'Bag', 'Ankle boot']

def make_model(lr=0.001, depth=0):
tf.random.set_seed(0)
random.seed(0)
model = Sequential([InputLayer(input_shape=(28,28)), Flatten()])
for i in range(depth):
model.add(Dense(300, activation='relu'))
model.add(Dense(10, activation='softmax'))
model.compile(loss='sparse_categorical_crossentropy', metrics=['accuracy'], optimizer=Adam(learning_rate=lr))
return model


def error_analysis(model, x_train, y_train, x_val, y_val):
p_train = model.predict(x_train)
p_val = model.predict(x_val)
@interact(subset=['train', 'val'], y=(0,9))
def _(subset='val', y=0):
a = y
x, y, p = (x_val, y_val, p_val) if subset == 'val' else (x_train, y_train, p_train)
y_pred = np.argmax(p, axis=1)
wrong = np.where((y == a) & (y != y_pred))[0]
perm = np.argsort(np.array([p[i][y_pred[i]] for i in range(len(p))])[wrong])#[::-1]
plt.figure(figsize=(16, 8))
for i in range(min(len(wrong), 20)):
j = wrong[perm[i]]
plt.subplot(2, 10, i+1)
plt.imshow(x[j], cmap='gray_r');
plt.title(f' y = {classes[y[j]]}\ny^ = {classes[y_pred[j]]}\n({p[j][y_pred[j]]:.1%})')
plt.xticks([]); plt.yticks([]);
plt.show()



depth = 2
epochs = 20
batch_size = 512
lr = 0.01
model = make_model(lr=lr, depth=depth)
history = model.fit(x_train, y_train, batch_size=batch_size, validation_data=(x_val, y_val), verbose=0, epochs=epochs)

model.evaluate(x_test, y_test, batch_size=batch_size)
 
error_analysis(model, x_train, y_train, x_val, y_val)
 
 
####### Answer ######
### Predicting wrongly if the class of clothes is quite similar 
 
