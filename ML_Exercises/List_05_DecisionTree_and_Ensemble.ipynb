{
 "cells": [
  {
   "cell_type": "code",
   "execution_count": 9,
   "id": "fb311ea9-613c-4f18-9e52-84e418c1ed60",
   "metadata": {},
   "outputs": [],
   "source": [
    "import pandas as pd\n",
    "### Importing Breast Cancer Wisconsin dataset\n",
    "from sklearn.datasets import load_breast_cancer\n",
    "\n",
    "\n",
    "## splitting into data and target variable\n",
    "BC_Data = load_breast_cancer()\n",
    "X, y = BC_Data['data'], BC_Data['target']"
   ]
  },
  {
   "cell_type": "code",
   "execution_count": 10,
   "id": "80a9d9b1-a2c1-42b9-bf8f-865e349064e7",
   "metadata": {},
   "outputs": [
    {
     "data": {
      "text/html": [
       "<style>#sk-container-id-3 {color: black;background-color: white;}#sk-container-id-3 pre{padding: 0;}#sk-container-id-3 div.sk-toggleable {background-color: white;}#sk-container-id-3 label.sk-toggleable__label {cursor: pointer;display: block;width: 100%;margin-bottom: 0;padding: 0.3em;box-sizing: border-box;text-align: center;}#sk-container-id-3 label.sk-toggleable__label-arrow:before {content: \"▸\";float: left;margin-right: 0.25em;color: #696969;}#sk-container-id-3 label.sk-toggleable__label-arrow:hover:before {color: black;}#sk-container-id-3 div.sk-estimator:hover label.sk-toggleable__label-arrow:before {color: black;}#sk-container-id-3 div.sk-toggleable__content {max-height: 0;max-width: 0;overflow: hidden;text-align: left;background-color: #f0f8ff;}#sk-container-id-3 div.sk-toggleable__content pre {margin: 0.2em;color: black;border-radius: 0.25em;background-color: #f0f8ff;}#sk-container-id-3 input.sk-toggleable__control:checked~div.sk-toggleable__content {max-height: 200px;max-width: 100%;overflow: auto;}#sk-container-id-3 input.sk-toggleable__control:checked~label.sk-toggleable__label-arrow:before {content: \"▾\";}#sk-container-id-3 div.sk-estimator input.sk-toggleable__control:checked~label.sk-toggleable__label {background-color: #d4ebff;}#sk-container-id-3 div.sk-label input.sk-toggleable__control:checked~label.sk-toggleable__label {background-color: #d4ebff;}#sk-container-id-3 input.sk-hidden--visually {border: 0;clip: rect(1px 1px 1px 1px);clip: rect(1px, 1px, 1px, 1px);height: 1px;margin: -1px;overflow: hidden;padding: 0;position: absolute;width: 1px;}#sk-container-id-3 div.sk-estimator {font-family: monospace;background-color: #f0f8ff;border: 1px dotted black;border-radius: 0.25em;box-sizing: border-box;margin-bottom: 0.5em;}#sk-container-id-3 div.sk-estimator:hover {background-color: #d4ebff;}#sk-container-id-3 div.sk-parallel-item::after {content: \"\";width: 100%;border-bottom: 1px solid gray;flex-grow: 1;}#sk-container-id-3 div.sk-label:hover label.sk-toggleable__label {background-color: #d4ebff;}#sk-container-id-3 div.sk-serial::before {content: \"\";position: absolute;border-left: 1px solid gray;box-sizing: border-box;top: 0;bottom: 0;left: 50%;z-index: 0;}#sk-container-id-3 div.sk-serial {display: flex;flex-direction: column;align-items: center;background-color: white;padding-right: 0.2em;padding-left: 0.2em;position: relative;}#sk-container-id-3 div.sk-item {position: relative;z-index: 1;}#sk-container-id-3 div.sk-parallel {display: flex;align-items: stretch;justify-content: center;background-color: white;position: relative;}#sk-container-id-3 div.sk-item::before, #sk-container-id-3 div.sk-parallel-item::before {content: \"\";position: absolute;border-left: 1px solid gray;box-sizing: border-box;top: 0;bottom: 0;left: 50%;z-index: -1;}#sk-container-id-3 div.sk-parallel-item {display: flex;flex-direction: column;z-index: 1;position: relative;background-color: white;}#sk-container-id-3 div.sk-parallel-item:first-child::after {align-self: flex-end;width: 50%;}#sk-container-id-3 div.sk-parallel-item:last-child::after {align-self: flex-start;width: 50%;}#sk-container-id-3 div.sk-parallel-item:only-child::after {width: 0;}#sk-container-id-3 div.sk-dashed-wrapped {border: 1px dashed gray;margin: 0 0.4em 0.5em 0.4em;box-sizing: border-box;padding-bottom: 0.4em;background-color: white;}#sk-container-id-3 div.sk-label label {font-family: monospace;font-weight: bold;display: inline-block;line-height: 1.2em;}#sk-container-id-3 div.sk-label-container {text-align: center;}#sk-container-id-3 div.sk-container {/* jupyter's `normalize.less` sets `[hidden] { display: none; }` but bootstrap.min.css set `[hidden] { display: none !important; }` so we also need the `!important` here to be able to override the default hidden behavior on the sphinx rendered scikit-learn.org. See: https://github.com/scikit-learn/scikit-learn/issues/21755 */display: inline-block !important;position: relative;}#sk-container-id-3 div.sk-text-repr-fallback {display: none;}</style><div id=\"sk-container-id-3\" class=\"sk-top-container\"><div class=\"sk-text-repr-fallback\"><pre>GradientBoostingClassifier(random_state=0)</pre><b>In a Jupyter environment, please rerun this cell to show the HTML representation or trust the notebook. <br />On GitHub, the HTML representation is unable to render, please try loading this page with nbviewer.org.</b></div><div class=\"sk-container\" hidden><div class=\"sk-item\"><div class=\"sk-estimator sk-toggleable\"><input class=\"sk-toggleable__control sk-hidden--visually\" id=\"sk-estimator-id-3\" type=\"checkbox\" checked><label for=\"sk-estimator-id-3\" class=\"sk-toggleable__label sk-toggleable__label-arrow\">GradientBoostingClassifier</label><div class=\"sk-toggleable__content\"><pre>GradientBoostingClassifier(random_state=0)</pre></div></div></div></div></div>"
      ],
      "text/plain": [
       "GradientBoostingClassifier(random_state=0)"
      ]
     },
     "execution_count": 10,
     "metadata": {},
     "output_type": "execute_result"
    }
   ],
   "source": [
    "## Applying decision tree classifier\n",
    "from sklearn.tree import DecisionTreeClassifier\n",
    "\n",
    "model_tree = DecisionTreeClassifier(random_state=0)\n",
    "model_tree.fit(X,y)\n",
    "\n",
    "\n",
    "## Applying random forest classifier\n",
    "from sklearn.ensemble import RandomForestClassifier\n",
    "\n",
    "model_RF = RandomForestClassifier(random_state=0)\n",
    "model_RF.fit(X,y)\n",
    "\n",
    "\n",
    "## Applying gradient boosting classifier\n",
    "from sklearn.ensemble import GradientBoostingClassifier\n",
    "\n",
    "model_GB = GradientBoostingClassifier(random_state=0)\n",
    "model_GB.fit(X,y)\n"
   ]
  },
  {
   "cell_type": "code",
   "execution_count": 16,
   "id": "83aec4e8-cf04-47fe-b251-94699cebdc60",
   "metadata": {},
   "outputs": [
    {
     "data": {
      "text/plain": [
       "worst radius               0.695594\n",
       "worst concave points       0.107097\n",
       "worst texture              0.088561\n",
       "compactness error          0.031841\n",
       "mean concave points        0.014410\n",
       "worst area                 0.011086\n",
       "worst concavity            0.008280\n",
       "area error                 0.007877\n",
       "worst smoothness           0.007388\n",
       "radius error               0.007316\n",
       "mean smoothness            0.007017\n",
       "worst compactness          0.006892\n",
       "mean perimeter             0.005639\n",
       "smoothness error           0.001004\n",
       "symmetry error             0.000000\n",
       "worst perimeter            0.000000\n",
       "worst symmetry             0.000000\n",
       "fractal dimension error    0.000000\n",
       "mean radius                0.000000\n",
       "concave points error       0.000000\n",
       "concavity error            0.000000\n",
       "mean texture               0.000000\n",
       "perimeter error            0.000000\n",
       "texture error              0.000000\n",
       "mean fractal dimension     0.000000\n",
       "mean symmetry              0.000000\n",
       "mean concavity             0.000000\n",
       "mean compactness           0.000000\n",
       "mean area                  0.000000\n",
       "worst fractal dimension    0.000000\n",
       "dtype: float64"
      ]
     },
     "execution_count": 16,
     "metadata": {},
     "output_type": "execute_result"
    }
   ],
   "source": [
    "## Seeing feature importance for each model\n",
    "\n",
    "# Decision tree\n",
    "pd.Series(model_tree.feature_importances_, index=BC_Data['feature_names']).sort_values(ascending=False)"
   ]
  },
  {
   "cell_type": "code",
   "execution_count": 17,
   "id": "796ad179-a75e-4afa-b766-2b0e78ce3123",
   "metadata": {},
   "outputs": [
    {
     "data": {
      "text/plain": [
       "worst perimeter            0.173987\n",
       "worst radius               0.121983\n",
       "worst concave points       0.118589\n",
       "mean concave points        0.088527\n",
       "worst area                 0.074981\n",
       "mean concavity             0.071862\n",
       "mean perimeter             0.053993\n",
       "mean area                  0.045401\n",
       "area error                 0.039420\n",
       "worst concavity            0.030394\n",
       "mean radius                0.024299\n",
       "worst texture              0.019173\n",
       "radius error               0.019009\n",
       "perimeter error            0.014594\n",
       "mean texture               0.014196\n",
       "worst smoothness           0.012692\n",
       "worst compactness          0.010236\n",
       "worst fractal dimension    0.008298\n",
       "worst symmetry             0.007964\n",
       "mean smoothness            0.007955\n",
       "fractal dimension error    0.005912\n",
       "mean symmetry              0.005588\n",
       "concave points error       0.005085\n",
       "texture error              0.004901\n",
       "concavity error            0.004241\n",
       "smoothness error           0.003746\n",
       "symmetry error             0.003711\n",
       "compactness error          0.003668\n",
       "mean compactness           0.003456\n",
       "mean fractal dimension     0.002141\n",
       "dtype: float64"
      ]
     },
     "execution_count": 17,
     "metadata": {},
     "output_type": "execute_result"
    }
   ],
   "source": [
    "# Random Forest\n",
    "pd.Series(model_RF.feature_importances_, index=BC_Data['feature_names']).sort_values(ascending=False)"
   ]
  },
  {
   "cell_type": "code",
   "execution_count": 18,
   "id": "93f7ce08-183f-4a4f-ada4-6bb3c864c7fd",
   "metadata": {},
   "outputs": [
    {
     "data": {
      "text/plain": [
       "worst radius               0.440480\n",
       "worst perimeter            0.151671\n",
       "mean concave points        0.127248\n",
       "worst concave points       0.116482\n",
       "worst texture              0.036733\n",
       "worst area                 0.029380\n",
       "mean texture               0.025720\n",
       "worst concavity            0.011646\n",
       "concavity error            0.009967\n",
       "area error                 0.008351\n",
       "compactness error          0.008260\n",
       "worst smoothness           0.007274\n",
       "radius error               0.004793\n",
       "concave points error       0.004348\n",
       "texture error              0.003472\n",
       "worst symmetry             0.002360\n",
       "mean compactness           0.001902\n",
       "mean area                  0.001616\n",
       "fractal dimension error    0.001479\n",
       "symmetry error             0.001220\n",
       "perimeter error            0.001144\n",
       "worst fractal dimension    0.001013\n",
       "worst compactness          0.000911\n",
       "mean perimeter             0.000785\n",
       "smoothness error           0.000710\n",
       "mean symmetry              0.000353\n",
       "mean fractal dimension     0.000349\n",
       "mean radius                0.000208\n",
       "mean concavity             0.000100\n",
       "mean smoothness            0.000023\n",
       "dtype: float64"
      ]
     },
     "execution_count": 18,
     "metadata": {},
     "output_type": "execute_result"
    }
   ],
   "source": [
    "#Gradient Boosting\n",
    "pd.Series(model_GB.feature_importances_, index=BC_Data['feature_names']).sort_values(ascending=False)"
   ]
  }
 ],
 "metadata": {
  "kernelspec": {
   "display_name": "Python 3 (ipykernel)",
   "language": "python",
   "name": "python3"
  },
  "language_info": {
   "codemirror_mode": {
    "name": "ipython",
    "version": 3
   },
   "file_extension": ".py",
   "mimetype": "text/x-python",
   "name": "python",
   "nbconvert_exporter": "python",
   "pygments_lexer": "ipython3",
   "version": "3.11.7"
  }
 },
 "nbformat": 4,
 "nbformat_minor": 5
}
