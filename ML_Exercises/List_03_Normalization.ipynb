{
 "cells": [
  {
   "cell_type": "markdown",
   "id": "9af30f35-095d-4440-b2df-a8a8b3548bf9",
   "metadata": {},
   "source": [
    "#### Importing Needed Libriries"
   ]
  },
  {
   "cell_type": "code",
   "execution_count": 20,
   "id": "73849bdc-13ce-431f-835a-19227b0c53fa",
   "metadata": {},
   "outputs": [],
   "source": [
    "import numpy as np\n",
    "from sklearn.base import BaseEstimator, TransformerMixin\n"
   ]
  },
  {
   "cell_type": "markdown",
   "id": "a3576716-168c-4baf-ab10-952bb0132313",
   "metadata": {},
   "source": [
    "#### Creating Z-score Escalator"
   ]
  },
  {
   "cell_type": "code",
   "execution_count": 21,
   "id": "f113f3b0-f115-470b-853f-6194aa108544",
   "metadata": {},
   "outputs": [],
   "source": [
    "class MyStandardScaler(BaseEstimator, TransformerMixin):\n",
    "    \n",
    "    def fit(self, X, y=None):\n",
    "        \n",
    "        self.mean_ = np.mean(X, axis=0) ## Gets the mean of each feature\n",
    "        self.std_scale = np.std(X - self.mean_, axis=0) ## divides every column by the STD\n",
    "        \n",
    "        return self\n",
    "    def transform(self, X):\n",
    "        # Scale features\n",
    "        X_new = (X - self.mean_)/(self.std_scale)\n",
    "        return X_new"
   ]
  },
  {
   "cell_type": "markdown",
   "id": "6221f41a-0ede-4c7f-b5d5-414f8d3967d6",
   "metadata": {},
   "source": [
    "#### Testing the created class and comparing w/ the sklearn StandardScaler"
   ]
  },
  {
   "cell_type": "code",
   "execution_count": 23,
   "id": "cda126ea-638b-4e05-a170-70ebcb4b3a5a",
   "metadata": {},
   "outputs": [
    {
     "name": "stdout",
     "output_type": "stream",
     "text": [
      "MyStandardScaler output: \n",
      " [[-1.34164079 -1.14458618 -0.98184354]\n",
      " [-0.4472136  -0.61631563 -0.69547251]\n",
      " [ 0.4472136   0.26413527  0.08182029]\n",
      " [ 1.34164079  1.49676654  1.59549575]]\n",
      "\n",
      "StandardScaler output: \n",
      " [[-1.34164079 -1.14458618 -0.98184354]\n",
      " [-0.4472136  -0.61631563 -0.69547251]\n",
      " [ 0.4472136   0.26413527  0.08182029]\n",
      " [ 1.34164079  1.49676654  1.59549575]]\n",
      "\n"
     ]
    }
   ],
   "source": [
    "from sklearn.preprocessing import StandardScaler\n",
    "\n",
    "A = np.array([[1, 1, 1], [2, 4, 8], [3, 9, 27], [4, 16, 64]])\n",
    "\n",
    "\n",
    "### MyStandardScaler output\n",
    "my_scaler = MyStandardScaler()\n",
    "my_scaler.fit(A)\n",
    "print(f'MyStandardScaler output: \\n {my_scaler.transform(A)}\\n')\n",
    "\n",
    "### StandardScaler output\n",
    "sk_scaler = StandardScaler()\n",
    "sk_scaler.fit(A)\n",
    "print(f'StandardScaler output: \\n {sk_scaler.transform(A)}\\n')"
   ]
  },
  {
   "cell_type": "code",
   "execution_count": null,
   "id": "2740d258-0328-42c8-b984-fabb1e1505f8",
   "metadata": {},
   "outputs": [],
   "source": []
  }
 ],
 "metadata": {
  "kernelspec": {
   "display_name": "Python 3 (ipykernel)",
   "language": "python",
   "name": "python3"
  },
  "language_info": {
   "codemirror_mode": {
    "name": "ipython",
    "version": 3
   },
   "file_extension": ".py",
   "mimetype": "text/x-python",
   "name": "python",
   "nbconvert_exporter": "python",
   "pygments_lexer": "ipython3",
   "version": "3.11.7"
  }
 },
 "nbformat": 4,
 "nbformat_minor": 5
}
